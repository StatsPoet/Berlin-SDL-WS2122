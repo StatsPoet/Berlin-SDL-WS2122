{
  "cells": [
    {
      "cell_type": "markdown",
      "metadata": {
        "id": "view-in-github",
        "colab_type": "text"
      },
      "source": [
        "<a href=\"https://colab.research.google.com/github/StatsPoet/Berlin-SDL-WS2122/blob/main/temperature_analysis.ipynb\" target=\"_parent\"><img src=\"https://colab.research.google.com/assets/colab-badge.svg\" alt=\"Open In Colab\"/></a>"
      ]
    },
    {
      "cell_type": "code",
      "execution_count": null,
      "metadata": {
        "colab": {
          "base_uri": "https://localhost:8080/"
        },
        "id": "j16aNKm9BQ2o",
        "outputId": "45b0779e-685b-41ce-cc68-b8cb702df1e7"
      },
      "outputs": [
        {
          "output_type": "stream",
          "name": "stdout",
          "text": [
            "Mounted at /content/drive\n"
          ]
        }
      ],
      "source": [
        "#connect to google drive\n",
        "from google.colab import drive\n",
        "drive.mount('/content/drive')"
      ]
    },
    {
      "cell_type": "code",
      "execution_count": null,
      "metadata": {
        "colab": {
          "base_uri": "https://localhost:8080/"
        },
        "id": "WF3PSb7pBngY",
        "outputId": "c3d592d0-5136-41f4-9e44-dcd2d4ddce4d"
      },
      "outputs": [
        {
          "output_type": "stream",
          "name": "stdout",
          "text": [
            "\n",
            "Your working directory was changed to /content/drive/My Drive/Colab Notebooks/image_analysis/temperatur\n",
            "\n",
            "An empty text file was created there. You can also run !pwd to confirm the current working directory.\n"
          ]
        }
      ],
      "source": [
        "import os \n",
        "\n",
        "# Set your working directory to a folder in your Google Drive. This way, if your notebook times out,\n",
        "# your files will be saved in your Google Drive!\n",
        "\n",
        "# the base Google Drive directory\n",
        "root_dir = \"/content/drive/My Drive/\"\n",
        "\n",
        "# choose where you want your project files to be saved\n",
        "project_folder = \"Colab Notebooks/image_analysis/temperatur\"\n",
        "\n",
        "def create_and_set_working_directory(project_folder):\n",
        "  # check if your project folder exists. if not, it will be created.\n",
        "  if os.path.isdir(root_dir + project_folder) == False:\n",
        "    os.mkdir(root_dir + project_folder)\n",
        "    print(root_dir + project_folder + ' did not exist but was created.')\n",
        "\n",
        "  # change the OS to use your project folder as the working directory\n",
        "  os.chdir(root_dir + project_folder)\n",
        "\n",
        "  # create a test file to make sure it shows up in the right place\n",
        "  !touch 'new_file_in_working_directory.txt'\n",
        "  print('\\nYour working directory was changed to ' + root_dir + project_folder + \\\n",
        "        \"\\n\\nAn empty text file was created there. You can also run !pwd to confirm the current working directory.\" )\n",
        "\n",
        "create_and_set_working_directory(project_folder)"
      ]
    },
    {
      "cell_type": "code",
      "execution_count": null,
      "metadata": {
        "colab": {
          "base_uri": "https://localhost:8080/"
        },
        "id": "aULIAmOiCCcm",
        "outputId": "0b9f0e8e-4523-4c95-d426-966ebdd1ab91"
      },
      "outputs": [
        {
          "output_type": "stream",
          "name": "stdout",
          "text": [
            "Collecting colour-science\n",
            "  Downloading colour_science-0.3.16-py2.py3-none-any.whl (2.1 MB)\n",
            "\u001b[K     |████████████████████████████████| 2.1 MB 8.0 MB/s \n",
            "\u001b[?25hRequirement already satisfied: imageio in /usr/local/lib/python3.7/dist-packages (from colour-science) (2.4.1)\n",
            "Requirement already satisfied: scipy<2.0.0,>=1.1.0 in /usr/local/lib/python3.7/dist-packages (from colour-science) (1.4.1)\n",
            "Requirement already satisfied: six in /usr/local/lib/python3.7/dist-packages (from colour-science) (1.15.0)\n",
            "Requirement already satisfied: numpy>=1.13.3 in /usr/local/lib/python3.7/dist-packages (from scipy<2.0.0,>=1.1.0->colour-science) (1.21.5)\n",
            "Requirement already satisfied: pillow in /usr/local/lib/python3.7/dist-packages (from imageio->colour-science) (7.1.2)\n",
            "Installing collected packages: colour-science\n",
            "Successfully installed colour-science-0.3.16\n"
          ]
        }
      ],
      "source": [
        "!pip install colour-science"
      ]
    },
    {
      "cell_type": "code",
      "execution_count": null,
      "metadata": {
        "id": "LApjbDKpY-K6"
      },
      "outputs": [],
      "source": [
        "#listings = pd.read_csv(\"listings.csv\")"
      ]
    },
    {
      "cell_type": "code",
      "execution_count": null,
      "metadata": {
        "id": "JxDC4DTo_aN-"
      },
      "outputs": [],
      "source": [
        ""
      ]
    },
    {
      "cell_type": "code",
      "execution_count": null,
      "metadata": {
        "id": "C2J_v0t8_aLw"
      },
      "outputs": [],
      "source": [
        ""
      ]
    },
    {
      "cell_type": "markdown",
      "source": [
        "Ddependencies"
      ],
      "metadata": {
        "id": "VFPsmYXhfvzg"
      }
    },
    {
      "cell_type": "code",
      "execution_count": null,
      "metadata": {
        "id": "Sei7l01xB8gX"
      },
      "outputs": [],
      "source": [
        "import PIL\n",
        "import pandas as pd\n",
        "from PIL import Image\n",
        "from PIL import ImageStat\n",
        "import numpy as np\n",
        "import os\n",
        "import colour\n"
      ]
    },
    {
      "cell_type": "markdown",
      "source": [
        "In order to not run into runtime error, the code below must be run, so that every picture in the folder is available to this script. Repeat running the code chunk until ir runs without error. This ensures that the loop over all images can run through. "
      ],
      "metadata": {
        "id": "N6vq_YOyf1KO"
      }
    },
    {
      "cell_type": "code",
      "execution_count": null,
      "metadata": {
        "id": "sldTbvc_B93p"
      },
      "outputs": [],
      "source": [
        "dir = \"/content/drive/MyDrive/Colab Notebooks/airbnb_scraper/pictures/pictures_2st_half_8750_to_full\"\n",
        "pic_paths = [os.path.join(dir, f) for f in os.listdir(dir) if os.path.isfile(os.path.join(dir, f))] \n"
      ]
    },
    {
      "cell_type": "code",
      "execution_count": null,
      "metadata": {
        "id": "qO2k3Zxh6sY1"
      },
      "outputs": [],
      "source": [
        "import os\n",
        "from os import listdir\n",
        "from os.path import isfile, join\n",
        "import pandas as pd\n",
        "import numpy as np\n",
        "import pickle\n",
        "infile = open(\"/content/drive/MyDrive/Colab Notebooks/airbnb_scraper/Munich_scraper_files/paths_munich\",'rb')\n",
        "pic_paths = pickle.load(infile)\n",
        "infile.close()"
      ]
    },
    {
      "cell_type": "code",
      "execution_count": null,
      "metadata": {
        "id": "iosfPKMh6_bf"
      },
      "outputs": [],
      "source": [
        ""
      ]
    },
    {
      "cell_type": "markdown",
      "source": [
        "Create data frame in which data will be stored"
      ],
      "metadata": {
        "id": "8VOy_UqqgT0W"
      }
    },
    {
      "cell_type": "code",
      "execution_count": null,
      "metadata": {
        "id": "VrB8TjF-Y_og"
      },
      "outputs": [],
      "source": [
        "pic_full_num = []\n",
        "pic_id = []\n",
        "pic_num = []\n",
        "for i in range(len(pic_paths)):\n",
        "  try: \n",
        "    number = pic_paths[i]\n",
        "    number = number.split(\"pictures_munich/\") #has to be adjusted to the dir of the pictures\n",
        "    number = number[1]\n",
        "    number = number.split(\".0\")\n",
        "    number = number[0] + number[1]\n",
        "    number = number.split(\".\")\n",
        "    number = number[0]\n",
        "    pic_full_num.append(number)\n",
        "    pic_id.append(int(number.split(\"_\")[0]))\n",
        "    pic_num.append(int(number.split(\"_\")[1]))\n",
        "  except:\n",
        "    print(i)"
      ]
    },
    {
      "cell_type": "code",
      "execution_count": null,
      "metadata": {
        "id": "HCnse2n7ZCg-"
      },
      "outputs": [],
      "source": [
        "all_pictures_df = pd.DataFrame(\n",
        "    {\"pic_paths\": pic_paths, \"pic_full_num\": pic_full_num, \"pic_id\": pic_id, \"pic_num\": pic_num}\n",
        ")"
      ]
    },
    {
      "cell_type": "code",
      "execution_count": null,
      "metadata": {
        "colab": {
          "base_uri": "https://localhost:8080/"
        },
        "id": "sHO0zydfZEfz",
        "outputId": "7f8ef21f-27ed-4846-f23c-e51816619392"
      },
      "outputs": [
        {
          "output_type": "execute_result",
          "data": {
            "text/plain": [
              "18"
            ]
          },
          "metadata": {},
          "execution_count": 6
        }
      ],
      "source": [
        "max_pic_amount = max(pic_num) + 1\n",
        "max_pic_amount"
      ]
    },
    {
      "cell_type": "code",
      "execution_count": null,
      "metadata": {
        "colab": {
          "base_uri": "https://localhost:8080/",
          "height": 206
        },
        "id": "mSRcSch6qgK-",
        "outputId": "2d5100cd-41b3-4418-c1d5-28bdc8c616e7"
      },
      "outputs": [
        {
          "data": {
            "text/html": [
              "\n",
              "  <div id=\"df-7987342d-ede9-499a-bf67-0383e176b5f8\">\n",
              "    <div class=\"colab-df-container\">\n",
              "      <div>\n",
              "<style scoped>\n",
              "    .dataframe tbody tr th:only-of-type {\n",
              "        vertical-align: middle;\n",
              "    }\n",
              "\n",
              "    .dataframe tbody tr th {\n",
              "        vertical-align: top;\n",
              "    }\n",
              "\n",
              "    .dataframe thead th {\n",
              "        text-align: right;\n",
              "    }\n",
              "</style>\n",
              "<table border=\"1\" class=\"dataframe\">\n",
              "  <thead>\n",
              "    <tr style=\"text-align: right;\">\n",
              "      <th></th>\n",
              "      <th>pic_paths</th>\n",
              "      <th>pic_full_num</th>\n",
              "      <th>pic_id</th>\n",
              "      <th>pic_num</th>\n",
              "    </tr>\n",
              "  </thead>\n",
              "  <tbody>\n",
              "    <tr>\n",
              "      <th>0</th>\n",
              "      <td>/content/drive/MyDrive/Colab Notebooks/airbnb_...</td>\n",
              "      <td>51668654_6</td>\n",
              "      <td>51668654</td>\n",
              "      <td>6</td>\n",
              "    </tr>\n",
              "    <tr>\n",
              "      <th>1</th>\n",
              "      <td>/content/drive/MyDrive/Colab Notebooks/airbnb_...</td>\n",
              "      <td>51668654_7</td>\n",
              "      <td>51668654</td>\n",
              "      <td>7</td>\n",
              "    </tr>\n",
              "    <tr>\n",
              "      <th>2</th>\n",
              "      <td>/content/drive/MyDrive/Colab Notebooks/airbnb_...</td>\n",
              "      <td>51668654_8</td>\n",
              "      <td>51668654</td>\n",
              "      <td>8</td>\n",
              "    </tr>\n",
              "    <tr>\n",
              "      <th>3</th>\n",
              "      <td>/content/drive/MyDrive/Colab Notebooks/airbnb_...</td>\n",
              "      <td>51668654_9</td>\n",
              "      <td>51668654</td>\n",
              "      <td>9</td>\n",
              "    </tr>\n",
              "    <tr>\n",
              "      <th>4</th>\n",
              "      <td>/content/drive/MyDrive/Colab Notebooks/airbnb_...</td>\n",
              "      <td>51668654_10</td>\n",
              "      <td>51668654</td>\n",
              "      <td>10</td>\n",
              "    </tr>\n",
              "  </tbody>\n",
              "</table>\n",
              "</div>\n",
              "      <button class=\"colab-df-convert\" onclick=\"convertToInteractive('df-7987342d-ede9-499a-bf67-0383e176b5f8')\"\n",
              "              title=\"Convert this dataframe to an interactive table.\"\n",
              "              style=\"display:none;\">\n",
              "        \n",
              "  <svg xmlns=\"http://www.w3.org/2000/svg\" height=\"24px\"viewBox=\"0 0 24 24\"\n",
              "       width=\"24px\">\n",
              "    <path d=\"M0 0h24v24H0V0z\" fill=\"none\"/>\n",
              "    <path d=\"M18.56 5.44l.94 2.06.94-2.06 2.06-.94-2.06-.94-.94-2.06-.94 2.06-2.06.94zm-11 1L8.5 8.5l.94-2.06 2.06-.94-2.06-.94L8.5 2.5l-.94 2.06-2.06.94zm10 10l.94 2.06.94-2.06 2.06-.94-2.06-.94-.94-2.06-.94 2.06-2.06.94z\"/><path d=\"M17.41 7.96l-1.37-1.37c-.4-.4-.92-.59-1.43-.59-.52 0-1.04.2-1.43.59L10.3 9.45l-7.72 7.72c-.78.78-.78 2.05 0 2.83L4 21.41c.39.39.9.59 1.41.59.51 0 1.02-.2 1.41-.59l7.78-7.78 2.81-2.81c.8-.78.8-2.07 0-2.86zM5.41 20L4 18.59l7.72-7.72 1.47 1.35L5.41 20z\"/>\n",
              "  </svg>\n",
              "      </button>\n",
              "      \n",
              "  <style>\n",
              "    .colab-df-container {\n",
              "      display:flex;\n",
              "      flex-wrap:wrap;\n",
              "      gap: 12px;\n",
              "    }\n",
              "\n",
              "    .colab-df-convert {\n",
              "      background-color: #E8F0FE;\n",
              "      border: none;\n",
              "      border-radius: 50%;\n",
              "      cursor: pointer;\n",
              "      display: none;\n",
              "      fill: #1967D2;\n",
              "      height: 32px;\n",
              "      padding: 0 0 0 0;\n",
              "      width: 32px;\n",
              "    }\n",
              "\n",
              "    .colab-df-convert:hover {\n",
              "      background-color: #E2EBFA;\n",
              "      box-shadow: 0px 1px 2px rgba(60, 64, 67, 0.3), 0px 1px 3px 1px rgba(60, 64, 67, 0.15);\n",
              "      fill: #174EA6;\n",
              "    }\n",
              "\n",
              "    [theme=dark] .colab-df-convert {\n",
              "      background-color: #3B4455;\n",
              "      fill: #D2E3FC;\n",
              "    }\n",
              "\n",
              "    [theme=dark] .colab-df-convert:hover {\n",
              "      background-color: #434B5C;\n",
              "      box-shadow: 0px 1px 3px 1px rgba(0, 0, 0, 0.15);\n",
              "      filter: drop-shadow(0px 1px 2px rgba(0, 0, 0, 0.3));\n",
              "      fill: #FFFFFF;\n",
              "    }\n",
              "  </style>\n",
              "\n",
              "      <script>\n",
              "        const buttonEl =\n",
              "          document.querySelector('#df-7987342d-ede9-499a-bf67-0383e176b5f8 button.colab-df-convert');\n",
              "        buttonEl.style.display =\n",
              "          google.colab.kernel.accessAllowed ? 'block' : 'none';\n",
              "\n",
              "        async function convertToInteractive(key) {\n",
              "          const element = document.querySelector('#df-7987342d-ede9-499a-bf67-0383e176b5f8');\n",
              "          const dataTable =\n",
              "            await google.colab.kernel.invokeFunction('convertToInteractive',\n",
              "                                                     [key], {});\n",
              "          if (!dataTable) return;\n",
              "\n",
              "          const docLinkHtml = 'Like what you see? Visit the ' +\n",
              "            '<a target=\"_blank\" href=https://colab.research.google.com/notebooks/data_table.ipynb>data table notebook</a>'\n",
              "            + ' to learn more about interactive tables.';\n",
              "          element.innerHTML = '';\n",
              "          dataTable['output_type'] = 'display_data';\n",
              "          await google.colab.output.renderOutput(dataTable, element);\n",
              "          const docLink = document.createElement('div');\n",
              "          docLink.innerHTML = docLinkHtml;\n",
              "          element.appendChild(docLink);\n",
              "        }\n",
              "      </script>\n",
              "    </div>\n",
              "  </div>\n",
              "  "
            ],
            "text/plain": [
              "                                           pic_paths  ... pic_num\n",
              "0  /content/drive/MyDrive/Colab Notebooks/airbnb_...  ...       6\n",
              "1  /content/drive/MyDrive/Colab Notebooks/airbnb_...  ...       7\n",
              "2  /content/drive/MyDrive/Colab Notebooks/airbnb_...  ...       8\n",
              "3  /content/drive/MyDrive/Colab Notebooks/airbnb_...  ...       9\n",
              "4  /content/drive/MyDrive/Colab Notebooks/airbnb_...  ...      10\n",
              "\n",
              "[5 rows x 4 columns]"
            ]
          },
          "execution_count": 9,
          "metadata": {},
          "output_type": "execute_result"
        }
      ],
      "source": [
        "all_pictures_df[0:5]"
      ]
    },
    {
      "cell_type": "code",
      "execution_count": null,
      "metadata": {
        "id": "XUJta13D9XqD"
      },
      "outputs": [],
      "source": [
        "better_data_frame = all_pictures_df.groupby('pic_id', as_index=False).agg(lambda x: x.tolist())"
      ]
    },
    {
      "cell_type": "code",
      "execution_count": null,
      "metadata": {
        "id": "A0oTzL2Bjrra"
      },
      "outputs": [],
      "source": [
        "for i in range(max_pic_amount):\n",
        "  name = \"color_temp_pic_\" + str(i)\n",
        "  better_data_frame[name] = [0] * len(better_data_frame)\n",
        "# adds columns with 0 for each class"
      ]
    },
    {
      "cell_type": "code",
      "execution_count": null,
      "metadata": {
        "id": "-xS7FpWepx3U"
      },
      "outputs": [],
      "source": [
        "better_data_frame = better_data_frame.drop([\"pic_full_num\"], axis = 1)"
      ]
    },
    {
      "cell_type": "code",
      "execution_count": null,
      "metadata": {
        "colab": {
          "base_uri": "https://localhost:8080/"
        },
        "id": "6o9ddJPWaLhU",
        "outputId": "4a62b780-7386-4cac-932a-9e217a52c164"
      },
      "outputs": [
        {
          "data": {
            "text/plain": [
              "728"
            ]
          },
          "execution_count": 14,
          "metadata": {},
          "output_type": "execute_result"
        }
      ],
      "source": [
        "import math\n",
        "math.ceil(len(better_data_frame) / 4)"
      ]
    },
    {
      "cell_type": "code",
      "execution_count": null,
      "metadata": {
        "colab": {
          "base_uri": "https://localhost:8080/"
        },
        "id": "_o_bb3Ja9Hjt",
        "outputId": "15281f98-e590-4c6b-fdfd-b7a38e664ac8"
      },
      "outputs": [
        {
          "output_type": "execute_result",
          "data": {
            "text/plain": [
              "2909"
            ]
          },
          "metadata": {},
          "execution_count": 10
        }
      ],
      "source": [
        "len(better_data_frame)"
      ]
    },
    {
      "cell_type": "code",
      "execution_count": null,
      "metadata": {
        "id": "1g9-_CK_sHat"
      },
      "outputs": [],
      "source": [
        "better_data_frame = better_data_frame[:5]"
      ]
    },
    {
      "cell_type": "code",
      "execution_count": null,
      "metadata": {
        "id": "InHo9J3u_q2X"
      },
      "outputs": [],
      "source": [
        "better_data_frame.index= range(len(better_data_frame))"
      ]
    },
    {
      "cell_type": "code",
      "execution_count": null,
      "metadata": {
        "colab": {
          "base_uri": "https://localhost:8080/",
          "height": 904
        },
        "id": "Qt8_F6JpBunD",
        "outputId": "e58fbd1d-5d7b-43ba-f8ba-f8e8866843e6"
      },
      "outputs": [
        {
          "output_type": "execute_result",
          "data": {
            "text/html": [
              "\n",
              "  <div id=\"df-9ce06849-881e-4298-839a-7a0eabf7cc58\">\n",
              "    <div class=\"colab-df-container\">\n",
              "      <div>\n",
              "<style scoped>\n",
              "    .dataframe tbody tr th:only-of-type {\n",
              "        vertical-align: middle;\n",
              "    }\n",
              "\n",
              "    .dataframe tbody tr th {\n",
              "        vertical-align: top;\n",
              "    }\n",
              "\n",
              "    .dataframe thead th {\n",
              "        text-align: right;\n",
              "    }\n",
              "</style>\n",
              "<table border=\"1\" class=\"dataframe\">\n",
              "  <thead>\n",
              "    <tr style=\"text-align: right;\">\n",
              "      <th></th>\n",
              "      <th>pic_id</th>\n",
              "      <th>pic_paths</th>\n",
              "      <th>pic_num</th>\n",
              "      <th>color_temp_pic_0</th>\n",
              "      <th>color_temp_pic_1</th>\n",
              "      <th>color_temp_pic_2</th>\n",
              "      <th>color_temp_pic_3</th>\n",
              "      <th>color_temp_pic_4</th>\n",
              "      <th>color_temp_pic_5</th>\n",
              "      <th>color_temp_pic_6</th>\n",
              "      <th>color_temp_pic_7</th>\n",
              "      <th>color_temp_pic_8</th>\n",
              "      <th>color_temp_pic_9</th>\n",
              "      <th>color_temp_pic_10</th>\n",
              "      <th>color_temp_pic_11</th>\n",
              "      <th>color_temp_pic_12</th>\n",
              "      <th>color_temp_pic_13</th>\n",
              "      <th>color_temp_pic_14</th>\n",
              "      <th>color_temp_pic_15</th>\n",
              "      <th>color_temp_pic_16</th>\n",
              "      <th>color_temp_pic_17</th>\n",
              "    </tr>\n",
              "  </thead>\n",
              "  <tbody>\n",
              "    <tr>\n",
              "      <th>0</th>\n",
              "      <td>97945</td>\n",
              "      <td>[/content/drive/MyDrive/Colab Notebooks/airbnb...</td>\n",
              "      <td>[0, 1, 2, 3, 4, 5, 6, 7, 8, 9]</td>\n",
              "      <td>0</td>\n",
              "      <td>0</td>\n",
              "      <td>0</td>\n",
              "      <td>0</td>\n",
              "      <td>0</td>\n",
              "      <td>0</td>\n",
              "      <td>0</td>\n",
              "      <td>0</td>\n",
              "      <td>0</td>\n",
              "      <td>0</td>\n",
              "      <td>0</td>\n",
              "      <td>0</td>\n",
              "      <td>0</td>\n",
              "      <td>0</td>\n",
              "      <td>0</td>\n",
              "      <td>0</td>\n",
              "      <td>0</td>\n",
              "      <td>0</td>\n",
              "    </tr>\n",
              "    <tr>\n",
              "      <th>1</th>\n",
              "      <td>114695</td>\n",
              "      <td>[/content/drive/MyDrive/Colab Notebooks/airbnb...</td>\n",
              "      <td>[0, 1, 2, 3, 4, 5, 6, 7, 8, 9]</td>\n",
              "      <td>0</td>\n",
              "      <td>0</td>\n",
              "      <td>0</td>\n",
              "      <td>0</td>\n",
              "      <td>0</td>\n",
              "      <td>0</td>\n",
              "      <td>0</td>\n",
              "      <td>0</td>\n",
              "      <td>0</td>\n",
              "      <td>0</td>\n",
              "      <td>0</td>\n",
              "      <td>0</td>\n",
              "      <td>0</td>\n",
              "      <td>0</td>\n",
              "      <td>0</td>\n",
              "      <td>0</td>\n",
              "      <td>0</td>\n",
              "      <td>0</td>\n",
              "    </tr>\n",
              "    <tr>\n",
              "      <th>2</th>\n",
              "      <td>127383</td>\n",
              "      <td>[/content/drive/MyDrive/Colab Notebooks/airbnb...</td>\n",
              "      <td>[0, 1, 2, 3, 4, 5, 6, 7, 8, 9, 10, 11, 12]</td>\n",
              "      <td>0</td>\n",
              "      <td>0</td>\n",
              "      <td>0</td>\n",
              "      <td>0</td>\n",
              "      <td>0</td>\n",
              "      <td>0</td>\n",
              "      <td>0</td>\n",
              "      <td>0</td>\n",
              "      <td>0</td>\n",
              "      <td>0</td>\n",
              "      <td>0</td>\n",
              "      <td>0</td>\n",
              "      <td>0</td>\n",
              "      <td>0</td>\n",
              "      <td>0</td>\n",
              "      <td>0</td>\n",
              "      <td>0</td>\n",
              "      <td>0</td>\n",
              "    </tr>\n",
              "    <tr>\n",
              "      <th>3</th>\n",
              "      <td>159634</td>\n",
              "      <td>[/content/drive/MyDrive/Colab Notebooks/airbnb...</td>\n",
              "      <td>[0, 1, 2, 3, 4, 5, 6, 7, 8, 9, 10, 11, 12, 13,...</td>\n",
              "      <td>0</td>\n",
              "      <td>0</td>\n",
              "      <td>0</td>\n",
              "      <td>0</td>\n",
              "      <td>0</td>\n",
              "      <td>0</td>\n",
              "      <td>0</td>\n",
              "      <td>0</td>\n",
              "      <td>0</td>\n",
              "      <td>0</td>\n",
              "      <td>0</td>\n",
              "      <td>0</td>\n",
              "      <td>0</td>\n",
              "      <td>0</td>\n",
              "      <td>0</td>\n",
              "      <td>0</td>\n",
              "      <td>0</td>\n",
              "      <td>0</td>\n",
              "    </tr>\n",
              "    <tr>\n",
              "      <th>4</th>\n",
              "      <td>170154</td>\n",
              "      <td>[/content/drive/MyDrive/Colab Notebooks/airbnb...</td>\n",
              "      <td>[0, 1, 2, 3, 4, 5, 6, 7, 8, 9]</td>\n",
              "      <td>0</td>\n",
              "      <td>0</td>\n",
              "      <td>0</td>\n",
              "      <td>0</td>\n",
              "      <td>0</td>\n",
              "      <td>0</td>\n",
              "      <td>0</td>\n",
              "      <td>0</td>\n",
              "      <td>0</td>\n",
              "      <td>0</td>\n",
              "      <td>0</td>\n",
              "      <td>0</td>\n",
              "      <td>0</td>\n",
              "      <td>0</td>\n",
              "      <td>0</td>\n",
              "      <td>0</td>\n",
              "      <td>0</td>\n",
              "      <td>0</td>\n",
              "    </tr>\n",
              "    <tr>\n",
              "      <th>...</th>\n",
              "      <td>...</td>\n",
              "      <td>...</td>\n",
              "      <td>...</td>\n",
              "      <td>...</td>\n",
              "      <td>...</td>\n",
              "      <td>...</td>\n",
              "      <td>...</td>\n",
              "      <td>...</td>\n",
              "      <td>...</td>\n",
              "      <td>...</td>\n",
              "      <td>...</td>\n",
              "      <td>...</td>\n",
              "      <td>...</td>\n",
              "      <td>...</td>\n",
              "      <td>...</td>\n",
              "      <td>...</td>\n",
              "      <td>...</td>\n",
              "      <td>...</td>\n",
              "      <td>...</td>\n",
              "      <td>...</td>\n",
              "      <td>...</td>\n",
              "    </tr>\n",
              "    <tr>\n",
              "      <th>2904</th>\n",
              "      <td>53680711</td>\n",
              "      <td>[/content/drive/MyDrive/Colab Notebooks/airbnb...</td>\n",
              "      <td>[0, 1, 2, 3, 4]</td>\n",
              "      <td>0</td>\n",
              "      <td>0</td>\n",
              "      <td>0</td>\n",
              "      <td>0</td>\n",
              "      <td>0</td>\n",
              "      <td>0</td>\n",
              "      <td>0</td>\n",
              "      <td>0</td>\n",
              "      <td>0</td>\n",
              "      <td>0</td>\n",
              "      <td>0</td>\n",
              "      <td>0</td>\n",
              "      <td>0</td>\n",
              "      <td>0</td>\n",
              "      <td>0</td>\n",
              "      <td>0</td>\n",
              "      <td>0</td>\n",
              "      <td>0</td>\n",
              "    </tr>\n",
              "    <tr>\n",
              "      <th>2905</th>\n",
              "      <td>53703888</td>\n",
              "      <td>[/content/drive/MyDrive/Colab Notebooks/airbnb...</td>\n",
              "      <td>[0, 1, 2, 3, 4, 5, 6]</td>\n",
              "      <td>0</td>\n",
              "      <td>0</td>\n",
              "      <td>0</td>\n",
              "      <td>0</td>\n",
              "      <td>0</td>\n",
              "      <td>0</td>\n",
              "      <td>0</td>\n",
              "      <td>0</td>\n",
              "      <td>0</td>\n",
              "      <td>0</td>\n",
              "      <td>0</td>\n",
              "      <td>0</td>\n",
              "      <td>0</td>\n",
              "      <td>0</td>\n",
              "      <td>0</td>\n",
              "      <td>0</td>\n",
              "      <td>0</td>\n",
              "      <td>0</td>\n",
              "    </tr>\n",
              "    <tr>\n",
              "      <th>2906</th>\n",
              "      <td>53730546</td>\n",
              "      <td>[/content/drive/MyDrive/Colab Notebooks/airbnb...</td>\n",
              "      <td>[0, 1, 2, 3, 4]</td>\n",
              "      <td>0</td>\n",
              "      <td>0</td>\n",
              "      <td>0</td>\n",
              "      <td>0</td>\n",
              "      <td>0</td>\n",
              "      <td>0</td>\n",
              "      <td>0</td>\n",
              "      <td>0</td>\n",
              "      <td>0</td>\n",
              "      <td>0</td>\n",
              "      <td>0</td>\n",
              "      <td>0</td>\n",
              "      <td>0</td>\n",
              "      <td>0</td>\n",
              "      <td>0</td>\n",
              "      <td>0</td>\n",
              "      <td>0</td>\n",
              "      <td>0</td>\n",
              "    </tr>\n",
              "    <tr>\n",
              "      <th>2907</th>\n",
              "      <td>53748144</td>\n",
              "      <td>[/content/drive/MyDrive/Colab Notebooks/airbnb...</td>\n",
              "      <td>[0, 1, 2, 3, 4]</td>\n",
              "      <td>0</td>\n",
              "      <td>0</td>\n",
              "      <td>0</td>\n",
              "      <td>0</td>\n",
              "      <td>0</td>\n",
              "      <td>0</td>\n",
              "      <td>0</td>\n",
              "      <td>0</td>\n",
              "      <td>0</td>\n",
              "      <td>0</td>\n",
              "      <td>0</td>\n",
              "      <td>0</td>\n",
              "      <td>0</td>\n",
              "      <td>0</td>\n",
              "      <td>0</td>\n",
              "      <td>0</td>\n",
              "      <td>0</td>\n",
              "      <td>0</td>\n",
              "    </tr>\n",
              "    <tr>\n",
              "      <th>2908</th>\n",
              "      <td>53788448</td>\n",
              "      <td>[/content/drive/MyDrive/Colab Notebooks/airbnb...</td>\n",
              "      <td>[0, 1, 2, 3, 4, 5]</td>\n",
              "      <td>0</td>\n",
              "      <td>0</td>\n",
              "      <td>0</td>\n",
              "      <td>0</td>\n",
              "      <td>0</td>\n",
              "      <td>0</td>\n",
              "      <td>0</td>\n",
              "      <td>0</td>\n",
              "      <td>0</td>\n",
              "      <td>0</td>\n",
              "      <td>0</td>\n",
              "      <td>0</td>\n",
              "      <td>0</td>\n",
              "      <td>0</td>\n",
              "      <td>0</td>\n",
              "      <td>0</td>\n",
              "      <td>0</td>\n",
              "      <td>0</td>\n",
              "    </tr>\n",
              "  </tbody>\n",
              "</table>\n",
              "<p>2909 rows × 21 columns</p>\n",
              "</div>\n",
              "      <button class=\"colab-df-convert\" onclick=\"convertToInteractive('df-9ce06849-881e-4298-839a-7a0eabf7cc58')\"\n",
              "              title=\"Convert this dataframe to an interactive table.\"\n",
              "              style=\"display:none;\">\n",
              "        \n",
              "  <svg xmlns=\"http://www.w3.org/2000/svg\" height=\"24px\"viewBox=\"0 0 24 24\"\n",
              "       width=\"24px\">\n",
              "    <path d=\"M0 0h24v24H0V0z\" fill=\"none\"/>\n",
              "    <path d=\"M18.56 5.44l.94 2.06.94-2.06 2.06-.94-2.06-.94-.94-2.06-.94 2.06-2.06.94zm-11 1L8.5 8.5l.94-2.06 2.06-.94-2.06-.94L8.5 2.5l-.94 2.06-2.06.94zm10 10l.94 2.06.94-2.06 2.06-.94-2.06-.94-.94-2.06-.94 2.06-2.06.94z\"/><path d=\"M17.41 7.96l-1.37-1.37c-.4-.4-.92-.59-1.43-.59-.52 0-1.04.2-1.43.59L10.3 9.45l-7.72 7.72c-.78.78-.78 2.05 0 2.83L4 21.41c.39.39.9.59 1.41.59.51 0 1.02-.2 1.41-.59l7.78-7.78 2.81-2.81c.8-.78.8-2.07 0-2.86zM5.41 20L4 18.59l7.72-7.72 1.47 1.35L5.41 20z\"/>\n",
              "  </svg>\n",
              "      </button>\n",
              "      \n",
              "  <style>\n",
              "    .colab-df-container {\n",
              "      display:flex;\n",
              "      flex-wrap:wrap;\n",
              "      gap: 12px;\n",
              "    }\n",
              "\n",
              "    .colab-df-convert {\n",
              "      background-color: #E8F0FE;\n",
              "      border: none;\n",
              "      border-radius: 50%;\n",
              "      cursor: pointer;\n",
              "      display: none;\n",
              "      fill: #1967D2;\n",
              "      height: 32px;\n",
              "      padding: 0 0 0 0;\n",
              "      width: 32px;\n",
              "    }\n",
              "\n",
              "    .colab-df-convert:hover {\n",
              "      background-color: #E2EBFA;\n",
              "      box-shadow: 0px 1px 2px rgba(60, 64, 67, 0.3), 0px 1px 3px 1px rgba(60, 64, 67, 0.15);\n",
              "      fill: #174EA6;\n",
              "    }\n",
              "\n",
              "    [theme=dark] .colab-df-convert {\n",
              "      background-color: #3B4455;\n",
              "      fill: #D2E3FC;\n",
              "    }\n",
              "\n",
              "    [theme=dark] .colab-df-convert:hover {\n",
              "      background-color: #434B5C;\n",
              "      box-shadow: 0px 1px 3px 1px rgba(0, 0, 0, 0.15);\n",
              "      filter: drop-shadow(0px 1px 2px rgba(0, 0, 0, 0.3));\n",
              "      fill: #FFFFFF;\n",
              "    }\n",
              "  </style>\n",
              "\n",
              "      <script>\n",
              "        const buttonEl =\n",
              "          document.querySelector('#df-9ce06849-881e-4298-839a-7a0eabf7cc58 button.colab-df-convert');\n",
              "        buttonEl.style.display =\n",
              "          google.colab.kernel.accessAllowed ? 'block' : 'none';\n",
              "\n",
              "        async function convertToInteractive(key) {\n",
              "          const element = document.querySelector('#df-9ce06849-881e-4298-839a-7a0eabf7cc58');\n",
              "          const dataTable =\n",
              "            await google.colab.kernel.invokeFunction('convertToInteractive',\n",
              "                                                     [key], {});\n",
              "          if (!dataTable) return;\n",
              "\n",
              "          const docLinkHtml = 'Like what you see? Visit the ' +\n",
              "            '<a target=\"_blank\" href=https://colab.research.google.com/notebooks/data_table.ipynb>data table notebook</a>'\n",
              "            + ' to learn more about interactive tables.';\n",
              "          element.innerHTML = '';\n",
              "          dataTable['output_type'] = 'display_data';\n",
              "          await google.colab.output.renderOutput(dataTable, element);\n",
              "          const docLink = document.createElement('div');\n",
              "          docLink.innerHTML = docLinkHtml;\n",
              "          element.appendChild(docLink);\n",
              "        }\n",
              "      </script>\n",
              "    </div>\n",
              "  </div>\n",
              "  "
            ],
            "text/plain": [
              "        pic_id  ... color_temp_pic_17\n",
              "0        97945  ...                 0\n",
              "1       114695  ...                 0\n",
              "2       127383  ...                 0\n",
              "3       159634  ...                 0\n",
              "4       170154  ...                 0\n",
              "...        ...  ...               ...\n",
              "2904  53680711  ...                 0\n",
              "2905  53703888  ...                 0\n",
              "2906  53730546  ...                 0\n",
              "2907  53748144  ...                 0\n",
              "2908  53788448  ...                 0\n",
              "\n",
              "[2909 rows x 21 columns]"
            ]
          },
          "metadata": {},
          "execution_count": 11
        }
      ],
      "source": [
        "better_data_frame"
      ]
    },
    {
      "cell_type": "markdown",
      "metadata": {
        "id": "FU9rVmC67xf9"
      },
      "source": [
        "using k-means to find the domninant colours in the picture. Determin CCT. The base code was taken from stack overflow https://stackoverflow.com/questions/43111029/how-to-find-the-average-colour-of-an-image-in-python-with-opencv"
      ]
    },
    {
      "cell_type": "code",
      "execution_count": null,
      "metadata": {
        "colab": {
          "background_save": true
        },
        "id": "H_fc68ojR0rB"
      },
      "outputs": [],
      "source": [
        "import cv2\n",
        "from skimage import io\n",
        "from PIL import ImageFile\n",
        "ImageFile.LOAD_TRUNCATED_IMAGES = True\n",
        "\n",
        "for i in range(len(better_data_frame)):\n",
        "  m = min(better_data_frame.loc[i,\"pic_num\"])\n",
        "  for j in range(len(better_data_frame.loc[i,\"pic_num\"])):\n",
        "    try:\n",
        "\n",
        "      img = io.imread(better_data_frame.loc[i,\"pic_paths\"][j])\n",
        "\n",
        "      pixels = np.float32(img.reshape(-1, 3))\n",
        "\n",
        "      n_colors = 3\n",
        "      criteria = (cv2.TERM_CRITERIA_EPS + cv2.TERM_CRITERIA_MAX_ITER, 200, .1)\n",
        "      flags = cv2.KMEANS_RANDOM_CENTERS\n",
        "\n",
        "      _, labels, palette = cv2.kmeans(pixels, n_colors, None, criteria, 10, flags)\n",
        "      _, counts = np.unique(labels, return_counts=True)\n",
        "\n",
        "\n",
        "      CCT_list = []\n",
        "      for k in range(palette.shape[0]):\n",
        "\n",
        "        # Assuming sRGB encoded colour values.\n",
        "        RGB = palette[k]\n",
        "\n",
        "        # Conversion to tristimulus values.\n",
        "        XYZ = colour.sRGB_to_XYZ(RGB / 255)\n",
        "\n",
        "        # Conversion to chromaticity coordinates.\n",
        "        xy = colour.XYZ_to_xy(XYZ)\n",
        "\n",
        "        # Conversion to correlated colour temperature in K.\n",
        "        CCT = colour.xy_to_CCT(xy, 'hernandez1999')\n",
        "        CCT_list.append(CCT)\n",
        "        \n",
        "        better_data_frame.iloc[i, (m+j+3)] = np.mean(CCT_list)\n",
        "    except:\n",
        "      better_data_frame.iloc[i, (m+j+3)] = np.nan\n",
        "      continue\n",
        "      \n",
        "  print(i)\n",
        "\n",
        "import pickle\n",
        "\n",
        "filename = \"/content/drive/MyDrive/Colab Notebooks/image_analysis/temperatur/mun_cct_df\"\n",
        "better_data_frame.to_pickle(filename)"
      ]
    },
    {
      "cell_type": "markdown",
      "metadata": {
        "id": "-qBbBPnqzVEz"
      },
      "source": [
        "18834337"
      ]
    },
    {
      "cell_type": "code",
      "execution_count": null,
      "metadata": {
        "id": "uwzfMBpXB_D2"
      },
      "outputs": [],
      "source": [
        "import pickle\n",
        "infile = open(\"/content/drive/MyDrive/Colab Notebooks/image_analysis/temperatur/mun_cct_df\",'rb')\n",
        "better_data_frame = pickle.load(infile)\n",
        "infile.close()"
      ]
    },
    {
      "cell_type": "code",
      "execution_count": null,
      "metadata": {
        "id": "lALFrddR0HLB"
      },
      "outputs": [],
      "source": [
        "cct_mean = []\n",
        "for i in range(len(better_data_frame)):\n",
        "  pic_amount = len(better_data_frame.loc[i,\"pic_num\"])\n",
        "  cct_mean.append(better_data_frame.iloc[i,3:(3+pic_amount)].mean(axis=0))\n",
        "\n",
        "cct_mean\n",
        "\n",
        "better_data_frame.insert(3,\"cct_mean\", cct_mean)"
      ]
    },
    {
      "cell_type": "code",
      "execution_count": null,
      "metadata": {
        "id": "4Stk0ln84YLY"
      },
      "outputs": [],
      "source": [
        "better_data_frame_0_9 = better_data_frame.loc[:,:\"color_temp_pic_9\"]"
      ]
    },
    {
      "cell_type": "code",
      "execution_count": null,
      "metadata": {
        "id": "QtSC5nox5cFT"
      },
      "outputs": [],
      "source": [
        "better_data_frame_0_9 = better_data_frame_0_9.drop(labels = [\"pic_paths\", \"pic_num\"],axis = 1).copy()"
      ]
    },
    {
      "cell_type": "code",
      "source": [
        "better_data_frame_0_9"
      ],
      "metadata": {
        "id": "QielDmms_SQu"
      },
      "execution_count": null,
      "outputs": []
    },
    {
      "cell_type": "code",
      "execution_count": null,
      "metadata": {
        "id": "5yrwjX9f6CGq",
        "colab": {
          "base_uri": "https://localhost:8080/",
          "height": 424
        },
        "outputId": "5ee3dd9f-fa1e-4cfb-a044-d1a51b31b405"
      },
      "outputs": [
        {
          "output_type": "execute_result",
          "data": {
            "text/html": [
              "\n",
              "  <div id=\"df-a9b6630c-afab-4ea9-9ce8-c1e2c86f42ce\">\n",
              "    <div class=\"colab-df-container\">\n",
              "      <div>\n",
              "<style scoped>\n",
              "    .dataframe tbody tr th:only-of-type {\n",
              "        vertical-align: middle;\n",
              "    }\n",
              "\n",
              "    .dataframe tbody tr th {\n",
              "        vertical-align: top;\n",
              "    }\n",
              "\n",
              "    .dataframe thead th {\n",
              "        text-align: right;\n",
              "    }\n",
              "</style>\n",
              "<table border=\"1\" class=\"dataframe\">\n",
              "  <thead>\n",
              "    <tr style=\"text-align: right;\">\n",
              "      <th></th>\n",
              "      <th>pic_id</th>\n",
              "      <th>cct_mean</th>\n",
              "      <th>color_temp_pic_0</th>\n",
              "      <th>color_temp_pic_1</th>\n",
              "      <th>color_temp_pic_2</th>\n",
              "      <th>color_temp_pic_3</th>\n",
              "      <th>color_temp_pic_4</th>\n",
              "      <th>color_temp_pic_5</th>\n",
              "      <th>color_temp_pic_6</th>\n",
              "      <th>color_temp_pic_7</th>\n",
              "      <th>color_temp_pic_8</th>\n",
              "      <th>color_temp_pic_9</th>\n",
              "    </tr>\n",
              "  </thead>\n",
              "  <tbody>\n",
              "    <tr>\n",
              "      <th>0</th>\n",
              "      <td>97945</td>\n",
              "      <td>5.448949e+03</td>\n",
              "      <td>4631.069919</td>\n",
              "      <td>5204.051660</td>\n",
              "      <td>6312.993025</td>\n",
              "      <td>5.849549e+03</td>\n",
              "      <td>6381.524080</td>\n",
              "      <td>5904.500446</td>\n",
              "      <td>5189.958529</td>\n",
              "      <td>5065.885330</td>\n",
              "      <td>5357.825333</td>\n",
              "      <td>4592.137816</td>\n",
              "    </tr>\n",
              "    <tr>\n",
              "      <th>1</th>\n",
              "      <td>114695</td>\n",
              "      <td>4.436633e+03</td>\n",
              "      <td>4755.133885</td>\n",
              "      <td>5403.978217</td>\n",
              "      <td>5494.933442</td>\n",
              "      <td>5.381487e+03</td>\n",
              "      <td>4707.289637</td>\n",
              "      <td>4866.363075</td>\n",
              "      <td>4413.773040</td>\n",
              "      <td>2902.833097</td>\n",
              "      <td>3147.306687</td>\n",
              "      <td>3293.231329</td>\n",
              "    </tr>\n",
              "    <tr>\n",
              "      <th>2</th>\n",
              "      <td>127383</td>\n",
              "      <td>5.139188e+03</td>\n",
              "      <td>4643.486194</td>\n",
              "      <td>5618.207226</td>\n",
              "      <td>4894.561791</td>\n",
              "      <td>5.090469e+03</td>\n",
              "      <td>5429.791853</td>\n",
              "      <td>5394.159356</td>\n",
              "      <td>5019.393702</td>\n",
              "      <td>5186.350548</td>\n",
              "      <td>4732.262932</td>\n",
              "      <td>5409.361546</td>\n",
              "    </tr>\n",
              "    <tr>\n",
              "      <th>3</th>\n",
              "      <td>159634</td>\n",
              "      <td>4.868684e+03</td>\n",
              "      <td>4584.245896</td>\n",
              "      <td>3289.972836</td>\n",
              "      <td>4760.685065</td>\n",
              "      <td>5.745763e+03</td>\n",
              "      <td>2288.224260</td>\n",
              "      <td>2926.732482</td>\n",
              "      <td>9014.818414</td>\n",
              "      <td>5989.882764</td>\n",
              "      <td>3629.124845</td>\n",
              "      <td>2856.973555</td>\n",
              "    </tr>\n",
              "    <tr>\n",
              "      <th>4</th>\n",
              "      <td>170154</td>\n",
              "      <td>4.499686e+03</td>\n",
              "      <td>4080.408625</td>\n",
              "      <td>4596.532590</td>\n",
              "      <td>4265.779257</td>\n",
              "      <td>3.855735e+03</td>\n",
              "      <td>5174.683980</td>\n",
              "      <td>4667.814294</td>\n",
              "      <td>4464.409381</td>\n",
              "      <td>4312.310951</td>\n",
              "      <td>4590.621311</td>\n",
              "      <td>4988.559309</td>\n",
              "    </tr>\n",
              "    <tr>\n",
              "      <th>...</th>\n",
              "      <td>...</td>\n",
              "      <td>...</td>\n",
              "      <td>...</td>\n",
              "      <td>...</td>\n",
              "      <td>...</td>\n",
              "      <td>...</td>\n",
              "      <td>...</td>\n",
              "      <td>...</td>\n",
              "      <td>...</td>\n",
              "      <td>...</td>\n",
              "      <td>...</td>\n",
              "      <td>...</td>\n",
              "    </tr>\n",
              "    <tr>\n",
              "      <th>2904</th>\n",
              "      <td>53680711</td>\n",
              "      <td>4.525007e+03</td>\n",
              "      <td>6726.900059</td>\n",
              "      <td>4459.389371</td>\n",
              "      <td>3250.202397</td>\n",
              "      <td>3.580346e+03</td>\n",
              "      <td>4608.198727</td>\n",
              "      <td>0.000000</td>\n",
              "      <td>0.000000</td>\n",
              "      <td>0.000000</td>\n",
              "      <td>0.000000</td>\n",
              "      <td>0.000000</td>\n",
              "    </tr>\n",
              "    <tr>\n",
              "      <th>2905</th>\n",
              "      <td>53703888</td>\n",
              "      <td>5.902844e+03</td>\n",
              "      <td>5361.475304</td>\n",
              "      <td>4367.900204</td>\n",
              "      <td>4448.157721</td>\n",
              "      <td>4.699990e+03</td>\n",
              "      <td>13158.454830</td>\n",
              "      <td>4580.377538</td>\n",
              "      <td>4703.553657</td>\n",
              "      <td>0.000000</td>\n",
              "      <td>0.000000</td>\n",
              "      <td>0.000000</td>\n",
              "    </tr>\n",
              "    <tr>\n",
              "      <th>2906</th>\n",
              "      <td>53730546</td>\n",
              "      <td>inf</td>\n",
              "      <td>4524.303353</td>\n",
              "      <td>5240.529386</td>\n",
              "      <td>5550.861936</td>\n",
              "      <td>inf</td>\n",
              "      <td>5566.532465</td>\n",
              "      <td>0.000000</td>\n",
              "      <td>0.000000</td>\n",
              "      <td>0.000000</td>\n",
              "      <td>0.000000</td>\n",
              "      <td>0.000000</td>\n",
              "    </tr>\n",
              "    <tr>\n",
              "      <th>2907</th>\n",
              "      <td>53748144</td>\n",
              "      <td>5.778837e+16</td>\n",
              "      <td>4524.679397</td>\n",
              "      <td>7356.421634</td>\n",
              "      <td>4138.431186</td>\n",
              "      <td>2.889419e+17</td>\n",
              "      <td>4444.098224</td>\n",
              "      <td>0.000000</td>\n",
              "      <td>0.000000</td>\n",
              "      <td>0.000000</td>\n",
              "      <td>0.000000</td>\n",
              "      <td>0.000000</td>\n",
              "    </tr>\n",
              "    <tr>\n",
              "      <th>2908</th>\n",
              "      <td>53788448</td>\n",
              "      <td>5.023603e+03</td>\n",
              "      <td>5849.360426</td>\n",
              "      <td>5578.249215</td>\n",
              "      <td>5040.520899</td>\n",
              "      <td>5.868856e+03</td>\n",
              "      <td>4553.102948</td>\n",
              "      <td>3251.530438</td>\n",
              "      <td>0.000000</td>\n",
              "      <td>0.000000</td>\n",
              "      <td>0.000000</td>\n",
              "      <td>0.000000</td>\n",
              "    </tr>\n",
              "  </tbody>\n",
              "</table>\n",
              "<p>2909 rows × 12 columns</p>\n",
              "</div>\n",
              "      <button class=\"colab-df-convert\" onclick=\"convertToInteractive('df-a9b6630c-afab-4ea9-9ce8-c1e2c86f42ce')\"\n",
              "              title=\"Convert this dataframe to an interactive table.\"\n",
              "              style=\"display:none;\">\n",
              "        \n",
              "  <svg xmlns=\"http://www.w3.org/2000/svg\" height=\"24px\"viewBox=\"0 0 24 24\"\n",
              "       width=\"24px\">\n",
              "    <path d=\"M0 0h24v24H0V0z\" fill=\"none\"/>\n",
              "    <path d=\"M18.56 5.44l.94 2.06.94-2.06 2.06-.94-2.06-.94-.94-2.06-.94 2.06-2.06.94zm-11 1L8.5 8.5l.94-2.06 2.06-.94-2.06-.94L8.5 2.5l-.94 2.06-2.06.94zm10 10l.94 2.06.94-2.06 2.06-.94-2.06-.94-.94-2.06-.94 2.06-2.06.94z\"/><path d=\"M17.41 7.96l-1.37-1.37c-.4-.4-.92-.59-1.43-.59-.52 0-1.04.2-1.43.59L10.3 9.45l-7.72 7.72c-.78.78-.78 2.05 0 2.83L4 21.41c.39.39.9.59 1.41.59.51 0 1.02-.2 1.41-.59l7.78-7.78 2.81-2.81c.8-.78.8-2.07 0-2.86zM5.41 20L4 18.59l7.72-7.72 1.47 1.35L5.41 20z\"/>\n",
              "  </svg>\n",
              "      </button>\n",
              "      \n",
              "  <style>\n",
              "    .colab-df-container {\n",
              "      display:flex;\n",
              "      flex-wrap:wrap;\n",
              "      gap: 12px;\n",
              "    }\n",
              "\n",
              "    .colab-df-convert {\n",
              "      background-color: #E8F0FE;\n",
              "      border: none;\n",
              "      border-radius: 50%;\n",
              "      cursor: pointer;\n",
              "      display: none;\n",
              "      fill: #1967D2;\n",
              "      height: 32px;\n",
              "      padding: 0 0 0 0;\n",
              "      width: 32px;\n",
              "    }\n",
              "\n",
              "    .colab-df-convert:hover {\n",
              "      background-color: #E2EBFA;\n",
              "      box-shadow: 0px 1px 2px rgba(60, 64, 67, 0.3), 0px 1px 3px 1px rgba(60, 64, 67, 0.15);\n",
              "      fill: #174EA6;\n",
              "    }\n",
              "\n",
              "    [theme=dark] .colab-df-convert {\n",
              "      background-color: #3B4455;\n",
              "      fill: #D2E3FC;\n",
              "    }\n",
              "\n",
              "    [theme=dark] .colab-df-convert:hover {\n",
              "      background-color: #434B5C;\n",
              "      box-shadow: 0px 1px 3px 1px rgba(0, 0, 0, 0.15);\n",
              "      filter: drop-shadow(0px 1px 2px rgba(0, 0, 0, 0.3));\n",
              "      fill: #FFFFFF;\n",
              "    }\n",
              "  </style>\n",
              "\n",
              "      <script>\n",
              "        const buttonEl =\n",
              "          document.querySelector('#df-a9b6630c-afab-4ea9-9ce8-c1e2c86f42ce button.colab-df-convert');\n",
              "        buttonEl.style.display =\n",
              "          google.colab.kernel.accessAllowed ? 'block' : 'none';\n",
              "\n",
              "        async function convertToInteractive(key) {\n",
              "          const element = document.querySelector('#df-a9b6630c-afab-4ea9-9ce8-c1e2c86f42ce');\n",
              "          const dataTable =\n",
              "            await google.colab.kernel.invokeFunction('convertToInteractive',\n",
              "                                                     [key], {});\n",
              "          if (!dataTable) return;\n",
              "\n",
              "          const docLinkHtml = 'Like what you see? Visit the ' +\n",
              "            '<a target=\"_blank\" href=https://colab.research.google.com/notebooks/data_table.ipynb>data table notebook</a>'\n",
              "            + ' to learn more about interactive tables.';\n",
              "          element.innerHTML = '';\n",
              "          dataTable['output_type'] = 'display_data';\n",
              "          await google.colab.output.renderOutput(dataTable, element);\n",
              "          const docLink = document.createElement('div');\n",
              "          docLink.innerHTML = docLinkHtml;\n",
              "          element.appendChild(docLink);\n",
              "        }\n",
              "      </script>\n",
              "    </div>\n",
              "  </div>\n",
              "  "
            ],
            "text/plain": [
              "        pic_id      cct_mean  ...  color_temp_pic_8  color_temp_pic_9\n",
              "0        97945  5.448949e+03  ...       5357.825333       4592.137816\n",
              "1       114695  4.436633e+03  ...       3147.306687       3293.231329\n",
              "2       127383  5.139188e+03  ...       4732.262932       5409.361546\n",
              "3       159634  4.868684e+03  ...       3629.124845       2856.973555\n",
              "4       170154  4.499686e+03  ...       4590.621311       4988.559309\n",
              "...        ...           ...  ...               ...               ...\n",
              "2904  53680711  4.525007e+03  ...          0.000000          0.000000\n",
              "2905  53703888  5.902844e+03  ...          0.000000          0.000000\n",
              "2906  53730546           inf  ...          0.000000          0.000000\n",
              "2907  53748144  5.778837e+16  ...          0.000000          0.000000\n",
              "2908  53788448  5.023603e+03  ...          0.000000          0.000000\n",
              "\n",
              "[2909 rows x 12 columns]"
            ]
          },
          "metadata": {},
          "execution_count": 16
        }
      ],
      "source": [
        "better_data_frame_0_9"
      ]
    },
    {
      "cell_type": "code",
      "execution_count": null,
      "metadata": {
        "id": "VZvdUpalmMqe"
      },
      "outputs": [],
      "source": [
        "filename = \"/content/drive/MyDrive/Colab Notebooks/image_analysis/temperatur/cct_dataframes/cct_df_mun\"\n",
        "better_data_frame_0_9.to_pickle(filename)"
      ]
    },
    {
      "cell_type": "markdown",
      "metadata": {
        "id": "vO9xnVQDas11"
      },
      "source": [
        "# Plot dominent colours of pictures"
      ]
    },
    {
      "cell_type": "code",
      "source": [
        "import pandas as pd\n",
        "import cv2\n",
        "from skimage import io\n",
        "from PIL import ImageFile"
      ],
      "metadata": {
        "id": "5LkqQ7oCW4xG"
      },
      "execution_count": null,
      "outputs": []
    },
    {
      "cell_type": "code",
      "execution_count": null,
      "metadata": {
        "id": "xqUo_RWnealX"
      },
      "outputs": [],
      "source": [
        "dir = \"/content/drive/MyDrive/Showcase_Image Analysis/Raw pic\"\n",
        "pic_paths = [os.path.join(dir, f) for f in os.listdir(dir) if os.path.isfile(os.path.join(dir, f))] "
      ]
    },
    {
      "cell_type": "code",
      "execution_count": null,
      "metadata": {
        "id": "MZm0q1MsekBg"
      },
      "outputs": [],
      "source": [
        "pic_full_num = []\n",
        "pic_id = []\n",
        "pic_num = []\n",
        "for i in range(len(pic_paths)):\n",
        "  try: \n",
        "    number = pic_paths[i]\n",
        "    number = number.split(\"Raw pic/\") #has to be adjusted to the dir of the pictures\n",
        "    number = number[1]\n",
        "    number = number.split(\".\")\n",
        "    number = number[0]\n",
        "    pic_full_num.append(number)\n",
        "    pic_id.append(int(number.split(\"_\")[0]))\n",
        "    pic_num.append(int(number.split(\"_\")[1]))\n",
        "  except:\n",
        "    print(i)"
      ]
    },
    {
      "cell_type": "code",
      "execution_count": null,
      "metadata": {
        "id": "3ChbJm36eo9N"
      },
      "outputs": [],
      "source": [
        "all_pictures_df = pd.DataFrame(\n",
        "    {\"pic_paths\": pic_paths, \"pic_full_num\": pic_full_num, \"pic_id\": pic_id, \"pic_num\": pic_num}\n",
        ")"
      ]
    },
    {
      "cell_type": "code",
      "execution_count": null,
      "metadata": {
        "id": "nScJB2NGdtqf"
      },
      "outputs": [],
      "source": [
        "all_pictures_df.sort_values(\"pic_num\", inplace = True, ignore_index = True)"
      ]
    },
    {
      "cell_type": "code",
      "execution_count": null,
      "metadata": {
        "colab": {
          "base_uri": "https://localhost:8080/",
          "height": 143
        },
        "id": "ylxNWKz3gTLr",
        "outputId": "0e52e51e-1ecd-4979-fed7-a87b26f6e9ec"
      },
      "outputs": [
        {
          "output_type": "execute_result",
          "data": {
            "text/html": [
              "\n",
              "  <div id=\"df-0914b9d9-b9bd-4ac8-987d-5d9b4b4e4e0a\">\n",
              "    <div class=\"colab-df-container\">\n",
              "      <div>\n",
              "<style scoped>\n",
              "    .dataframe tbody tr th:only-of-type {\n",
              "        vertical-align: middle;\n",
              "    }\n",
              "\n",
              "    .dataframe tbody tr th {\n",
              "        vertical-align: top;\n",
              "    }\n",
              "\n",
              "    .dataframe thead th {\n",
              "        text-align: right;\n",
              "    }\n",
              "</style>\n",
              "<table border=\"1\" class=\"dataframe\">\n",
              "  <thead>\n",
              "    <tr style=\"text-align: right;\">\n",
              "      <th></th>\n",
              "      <th>pic_paths</th>\n",
              "      <th>pic_full_num</th>\n",
              "      <th>pic_id</th>\n",
              "      <th>pic_num</th>\n",
              "    </tr>\n",
              "  </thead>\n",
              "  <tbody>\n",
              "    <tr>\n",
              "      <th>0</th>\n",
              "      <td>/content/drive/MyDrive/Showcase_Image Analysis...</td>\n",
              "      <td>23509544_1</td>\n",
              "      <td>23509544</td>\n",
              "      <td>1</td>\n",
              "    </tr>\n",
              "    <tr>\n",
              "      <th>1</th>\n",
              "      <td>/content/drive/MyDrive/Showcase_Image Analysis...</td>\n",
              "      <td>52386640_1</td>\n",
              "      <td>52386640</td>\n",
              "      <td>1</td>\n",
              "    </tr>\n",
              "    <tr>\n",
              "      <th>2</th>\n",
              "      <td>/content/drive/MyDrive/Showcase_Image Analysis...</td>\n",
              "      <td>52386640_6</td>\n",
              "      <td>52386640</td>\n",
              "      <td>6</td>\n",
              "    </tr>\n",
              "  </tbody>\n",
              "</table>\n",
              "</div>\n",
              "      <button class=\"colab-df-convert\" onclick=\"convertToInteractive('df-0914b9d9-b9bd-4ac8-987d-5d9b4b4e4e0a')\"\n",
              "              title=\"Convert this dataframe to an interactive table.\"\n",
              "              style=\"display:none;\">\n",
              "        \n",
              "  <svg xmlns=\"http://www.w3.org/2000/svg\" height=\"24px\"viewBox=\"0 0 24 24\"\n",
              "       width=\"24px\">\n",
              "    <path d=\"M0 0h24v24H0V0z\" fill=\"none\"/>\n",
              "    <path d=\"M18.56 5.44l.94 2.06.94-2.06 2.06-.94-2.06-.94-.94-2.06-.94 2.06-2.06.94zm-11 1L8.5 8.5l.94-2.06 2.06-.94-2.06-.94L8.5 2.5l-.94 2.06-2.06.94zm10 10l.94 2.06.94-2.06 2.06-.94-2.06-.94-.94-2.06-.94 2.06-2.06.94z\"/><path d=\"M17.41 7.96l-1.37-1.37c-.4-.4-.92-.59-1.43-.59-.52 0-1.04.2-1.43.59L10.3 9.45l-7.72 7.72c-.78.78-.78 2.05 0 2.83L4 21.41c.39.39.9.59 1.41.59.51 0 1.02-.2 1.41-.59l7.78-7.78 2.81-2.81c.8-.78.8-2.07 0-2.86zM5.41 20L4 18.59l7.72-7.72 1.47 1.35L5.41 20z\"/>\n",
              "  </svg>\n",
              "      </button>\n",
              "      \n",
              "  <style>\n",
              "    .colab-df-container {\n",
              "      display:flex;\n",
              "      flex-wrap:wrap;\n",
              "      gap: 12px;\n",
              "    }\n",
              "\n",
              "    .colab-df-convert {\n",
              "      background-color: #E8F0FE;\n",
              "      border: none;\n",
              "      border-radius: 50%;\n",
              "      cursor: pointer;\n",
              "      display: none;\n",
              "      fill: #1967D2;\n",
              "      height: 32px;\n",
              "      padding: 0 0 0 0;\n",
              "      width: 32px;\n",
              "    }\n",
              "\n",
              "    .colab-df-convert:hover {\n",
              "      background-color: #E2EBFA;\n",
              "      box-shadow: 0px 1px 2px rgba(60, 64, 67, 0.3), 0px 1px 3px 1px rgba(60, 64, 67, 0.15);\n",
              "      fill: #174EA6;\n",
              "    }\n",
              "\n",
              "    [theme=dark] .colab-df-convert {\n",
              "      background-color: #3B4455;\n",
              "      fill: #D2E3FC;\n",
              "    }\n",
              "\n",
              "    [theme=dark] .colab-df-convert:hover {\n",
              "      background-color: #434B5C;\n",
              "      box-shadow: 0px 1px 3px 1px rgba(0, 0, 0, 0.15);\n",
              "      filter: drop-shadow(0px 1px 2px rgba(0, 0, 0, 0.3));\n",
              "      fill: #FFFFFF;\n",
              "    }\n",
              "  </style>\n",
              "\n",
              "      <script>\n",
              "        const buttonEl =\n",
              "          document.querySelector('#df-0914b9d9-b9bd-4ac8-987d-5d9b4b4e4e0a button.colab-df-convert');\n",
              "        buttonEl.style.display =\n",
              "          google.colab.kernel.accessAllowed ? 'block' : 'none';\n",
              "\n",
              "        async function convertToInteractive(key) {\n",
              "          const element = document.querySelector('#df-0914b9d9-b9bd-4ac8-987d-5d9b4b4e4e0a');\n",
              "          const dataTable =\n",
              "            await google.colab.kernel.invokeFunction('convertToInteractive',\n",
              "                                                     [key], {});\n",
              "          if (!dataTable) return;\n",
              "\n",
              "          const docLinkHtml = 'Like what you see? Visit the ' +\n",
              "            '<a target=\"_blank\" href=https://colab.research.google.com/notebooks/data_table.ipynb>data table notebook</a>'\n",
              "            + ' to learn more about interactive tables.';\n",
              "          element.innerHTML = '';\n",
              "          dataTable['output_type'] = 'display_data';\n",
              "          await google.colab.output.renderOutput(dataTable, element);\n",
              "          const docLink = document.createElement('div');\n",
              "          docLink.innerHTML = docLinkHtml;\n",
              "          element.appendChild(docLink);\n",
              "        }\n",
              "      </script>\n",
              "    </div>\n",
              "  </div>\n",
              "  "
            ],
            "text/plain": [
              "                                           pic_paths  ... pic_num\n",
              "0  /content/drive/MyDrive/Showcase_Image Analysis...  ...       1\n",
              "1  /content/drive/MyDrive/Showcase_Image Analysis...  ...       1\n",
              "2  /content/drive/MyDrive/Showcase_Image Analysis...  ...       6\n",
              "\n",
              "[3 rows x 4 columns]"
            ]
          },
          "metadata": {},
          "execution_count": 10
        }
      ],
      "source": [
        "all_pictures_df"
      ]
    },
    {
      "cell_type": "code",
      "execution_count": null,
      "metadata": {
        "id": "EecgA3kbeKco"
      },
      "outputs": [],
      "source": [
        "img = io.imread(all_pictures_df.loc[0,\"pic_paths\"])\n",
        "\n",
        "pixels = np.float32(img.reshape(-1, 3))\n",
        "\n",
        "n_colors = 5\n",
        "criteria = (cv2.TERM_CRITERIA_EPS + cv2.TERM_CRITERIA_MAX_ITER, 200, .1)\n",
        "flags = cv2.KMEANS_RANDOM_CENTERS\n",
        "\n",
        "_, labels, palette = cv2.kmeans(pixels, n_colors, None, criteria, 10, flags)\n",
        "_, counts = np.unique(labels, return_counts=True)\n",
        "\n",
        "\n",
        "CCT_list = []\n",
        "for k in range(palette.shape[0]):\n",
        "\n",
        "        # Assuming sRGB encoded colour values.\n",
        "  RGB = palette[k]\n",
        "\n",
        "        # Conversion to tristimulus values.\n",
        "  XYZ = colour.sRGB_to_XYZ(RGB / 255)\n",
        "\n",
        "        # Conversion to chromaticity coordinates.\n",
        "  xy = colour.XYZ_to_xy(XYZ)\n",
        "\n",
        "        # Conversion to correlated colour temperature in K.\n",
        "  CCT = colour.xy_to_CCT(xy, 'hernandez1999')\n",
        "  CCT_list.append(CCT)\n",
        "        \n",
        "showcase_mean = round(np.mean(CCT_list),0)"
      ]
    },
    {
      "cell_type": "code",
      "source": [
        "import matplotlib.pyplot as plt\n",
        "\n",
        "indices = np.argsort(counts)[::-1]   \n",
        "freqs = np.cumsum(np.hstack([[0], counts[indices]/float(counts.sum())]))\n",
        "rows = np.int_(img.shape[0]*freqs)\n",
        "\n",
        "dom_patch = np.zeros(shape=img.shape, dtype=np.uint8)\n",
        "for i in range(len(rows) - 1):\n",
        "    dom_patch[rows[i]:rows[i + 1], :, :] += np.uint8(palette[indices[i]])\n",
        "    \n",
        "fig, (ax0) = plt.subplots(1, 1, figsize=(12,6))\n",
        "ax0.imshow(dom_patch)\n",
        "ax0.set_title('Dominant colors' + \"            \" + \"CCT mean:\" + \" \" + str(showcase_mean))\n",
        "ax0.axis('off')\n",
        "plt.show(fig)"
      ],
      "metadata": {
        "colab": {
          "base_uri": "https://localhost:8080/",
          "height": 373
        },
        "id": "o30JNuoHXHWd",
        "outputId": "81b83394-b707-4b31-e0da-5a2848d6b8ac"
      },
      "execution_count": null,
      "outputs": [
        {
          "output_type": "display_data",
          "data": {
            "image/png": "[encoded data removed]",
            "text/plain": [
              "<Figure size 864x432 with 1 Axes>"
            ]
          },
          "metadata": {
            "needs_background": "light"
          }
        }
      ]
    },
    {
      "cell_type": "code",
      "execution_count": null,
      "metadata": {
        "colab": {
          "base_uri": "https://localhost:8080/",
          "height": 373
        },
        "id": "EaVQDpy65lHH",
        "outputId": "c56863b8-af7a-4376-f273-0db6c30efda2"
      },
      "outputs": [
        {
          "output_type": "display_data",
          "data": {
            "image/png": "[encoded data removed]",
            "text/plain": [
              "<Figure size 864x432 with 1 Axes>"
            ]
          },
          "metadata": {
            "needs_background": "light"
          }
        }
      ],
      "source": [
        "import matplotlib.pyplot as plt\n",
        "\n",
        "indices = np.argsort(counts)[::-1]   \n",
        "freqs = np.cumsum(np.hstack([[0], counts[indices]/float(counts.sum())]))\n",
        "rows = np.int_(img.shape[0]*freqs)\n",
        "\n",
        "dom_patch = np.zeros(shape=img.shape, dtype=np.uint8)\n",
        "for i in range(len(rows) - 1):\n",
        "    dom_patch[rows[i]:rows[i + 1], :, :] += np.uint8(palette[indices[i]])\n",
        "    \n",
        "fig, (ax0) = plt.subplots(1, 1, figsize=(12,6))\n",
        "ax0.imshow(dom_patch)\n",
        "ax0.set_title('Dominant colors' + \"            \" + \"CCT mean:\" + \" \" + str(showcase_mean))\n",
        "ax0.axis('off')\n",
        "plt.savefig(\"/content/drive/MyDrive/Showcase_Image Analysis/dominant_col/cold_2\")\n",
        "plt.show(fig)"
      ]
    }
  ],
  "metadata": {
    "accelerator": "GPU",
    "colab": {
      "background_execution": "on",
      "collapsed_sections": [],
      "name": "temperature_analysis.ipynb",
      "provenance": [],
      "authorship_tag": "ABX9TyOUzXGLyXfl0ifK9EpbXky/",
      "include_colab_link": true
    },
    "kernelspec": {
      "display_name": "Python 3",
      "name": "python3"
    },
    "language_info": {
      "name": "python"
    }
  },
  "nbformat": 4,
  "nbformat_minor": 0
}